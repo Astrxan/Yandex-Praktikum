{
 "cells": [
  {
   "cell_type": "code",
   "execution_count": 39,
   "metadata": {},
   "outputs": [],
   "source": [
    "import pandas as pd\n",
    "import matplotlib.pyplot as plt\n",
    "import math\n",
    "import numpy as np\n",
    "from scipy import stats as st\n",
    "import copy\n",
    "\n",
    "calls    = pd.read_csv('/datasets/calls.csv')\n",
    "internet = pd.read_csv('/datasets/internet.csv')\n",
    "messages = pd.read_csv('/datasets/messages.csv')\n",
    "tariffs  = pd.read_csv('/datasets/tariffs.csv')\n",
    "users    = pd.read_csv('/datasets/users.csv')"
   ]
  },
  {
   "cell_type": "code",
   "execution_count": 40,
   "metadata": {},
   "outputs": [
    {
     "name": "stdout",
     "output_type": "stream",
     "text": [
      "<class 'pandas.core.frame.DataFrame'>\n",
      "RangeIndex: 202607 entries, 0 to 202606\n",
      "Data columns (total 4 columns):\n",
      "id           202607 non-null object\n",
      "call_date    202607 non-null object\n",
      "duration     202607 non-null float64\n",
      "user_id      202607 non-null int64\n",
      "dtypes: float64(1), int64(1), object(2)\n",
      "memory usage: 6.2+ MB\n"
     ]
    },
    {
     "data": {
      "text/html": [
       "<div>\n",
       "<style scoped>\n",
       "    .dataframe tbody tr th:only-of-type {\n",
       "        vertical-align: middle;\n",
       "    }\n",
       "\n",
       "    .dataframe tbody tr th {\n",
       "        vertical-align: top;\n",
       "    }\n",
       "\n",
       "    .dataframe thead th {\n",
       "        text-align: right;\n",
       "    }\n",
       "</style>\n",
       "<table border=\"1\" class=\"dataframe\">\n",
       "  <thead>\n",
       "    <tr style=\"text-align: right;\">\n",
       "      <th></th>\n",
       "      <th>id</th>\n",
       "      <th>call_date</th>\n",
       "      <th>duration</th>\n",
       "      <th>user_id</th>\n",
       "    </tr>\n",
       "  </thead>\n",
       "  <tbody>\n",
       "    <tr>\n",
       "      <td>101862</td>\n",
       "      <td>1262_219</td>\n",
       "      <td>2018-11-05</td>\n",
       "      <td>1.77</td>\n",
       "      <td>1262</td>\n",
       "    </tr>\n",
       "    <tr>\n",
       "      <td>28914</td>\n",
       "      <td>1072_240</td>\n",
       "      <td>2018-03-05</td>\n",
       "      <td>10.53</td>\n",
       "      <td>1072</td>\n",
       "    </tr>\n",
       "    <tr>\n",
       "      <td>193443</td>\n",
       "      <td>1475_112</td>\n",
       "      <td>2018-03-04</td>\n",
       "      <td>10.06</td>\n",
       "      <td>1475</td>\n",
       "    </tr>\n",
       "    <tr>\n",
       "      <td>118745</td>\n",
       "      <td>1307_219</td>\n",
       "      <td>2018-09-28</td>\n",
       "      <td>3.03</td>\n",
       "      <td>1307</td>\n",
       "    </tr>\n",
       "    <tr>\n",
       "      <td>78788</td>\n",
       "      <td>1196_1020</td>\n",
       "      <td>2018-08-19</td>\n",
       "      <td>8.05</td>\n",
       "      <td>1196</td>\n",
       "    </tr>\n",
       "    <tr>\n",
       "      <td>56165</td>\n",
       "      <td>1143_229</td>\n",
       "      <td>2018-08-31</td>\n",
       "      <td>7.15</td>\n",
       "      <td>1143</td>\n",
       "    </tr>\n",
       "    <tr>\n",
       "      <td>16135</td>\n",
       "      <td>1044_241</td>\n",
       "      <td>2018-07-26</td>\n",
       "      <td>8.73</td>\n",
       "      <td>1044</td>\n",
       "    </tr>\n",
       "    <tr>\n",
       "      <td>188432</td>\n",
       "      <td>1465_149</td>\n",
       "      <td>2018-07-30</td>\n",
       "      <td>4.29</td>\n",
       "      <td>1465</td>\n",
       "    </tr>\n",
       "    <tr>\n",
       "      <td>8144</td>\n",
       "      <td>1021_612</td>\n",
       "      <td>2018-05-05</td>\n",
       "      <td>0.00</td>\n",
       "      <td>1021</td>\n",
       "    </tr>\n",
       "    <tr>\n",
       "      <td>129009</td>\n",
       "      <td>1330_873</td>\n",
       "      <td>2018-10-21</td>\n",
       "      <td>0.00</td>\n",
       "      <td>1330</td>\n",
       "    </tr>\n",
       "  </tbody>\n",
       "</table>\n",
       "</div>"
      ],
      "text/plain": [
       "               id   call_date  duration  user_id\n",
       "101862   1262_219  2018-11-05      1.77     1262\n",
       "28914    1072_240  2018-03-05     10.53     1072\n",
       "193443   1475_112  2018-03-04     10.06     1475\n",
       "118745   1307_219  2018-09-28      3.03     1307\n",
       "78788   1196_1020  2018-08-19      8.05     1196\n",
       "56165    1143_229  2018-08-31      7.15     1143\n",
       "16135    1044_241  2018-07-26      8.73     1044\n",
       "188432   1465_149  2018-07-30      4.29     1465\n",
       "8144     1021_612  2018-05-05      0.00     1021\n",
       "129009   1330_873  2018-10-21      0.00     1330"
      ]
     },
     "execution_count": 40,
     "metadata": {},
     "output_type": "execute_result"
    }
   ],
   "source": [
    "calls.info()\n",
    "calls.sample(10)"
   ]
  },
  {
   "cell_type": "markdown",
   "metadata": {},
   "source": [
    "   **Calls.**   \n",
    "   Приступим к изменению в базе звонков  \n",
    "   1. Округлим звонки вверх\n",
    "   2. Добавим столбец \"месяц\""
   ]
  },
  {
   "cell_type": "code",
   "execution_count": 41,
   "metadata": {},
   "outputs": [],
   "source": [
    "calls['duration'] = calls['duration'].apply(np.ceil).astype('int')\n",
    "calls['month']    = pd.DatetimeIndex(calls['call_date']).month"
   ]
  },
  {
   "cell_type": "markdown",
   "metadata": {},
   "source": [
    "Согласен. Но в реальном бизнесе мы можем задать вопрос заказчику и, дописав код, исправить ситуацию. )) "
   ]
  },
  {
   "cell_type": "code",
   "execution_count": 42,
   "metadata": {
    "scrolled": true
   },
   "outputs": [
    {
     "name": "stdout",
     "output_type": "stream",
     "text": [
      "<class 'pandas.core.frame.DataFrame'>\n",
      "RangeIndex: 149396 entries, 0 to 149395\n",
      "Data columns (total 5 columns):\n",
      "Unnamed: 0      149396 non-null int64\n",
      "id              149396 non-null object\n",
      "mb_used         149396 non-null float64\n",
      "session_date    149396 non-null object\n",
      "user_id         149396 non-null int64\n",
      "dtypes: float64(1), int64(2), object(2)\n",
      "memory usage: 5.7+ MB\n"
     ]
    }
   ],
   "source": [
    "internet.info()\n",
    "internet.sample(10)\n",
    "#Переведем мегабайты в гигабайты\n",
    "internet['gb_used'] = internet['mb_used'] / 1024"
   ]
  },
  {
   "cell_type": "code",
   "execution_count": 43,
   "metadata": {},
   "outputs": [
    {
     "name": "stdout",
     "output_type": "stream",
     "text": [
      "<class 'pandas.core.frame.DataFrame'>\n",
      "RangeIndex: 123036 entries, 0 to 123035\n",
      "Data columns (total 3 columns):\n",
      "id              123036 non-null object\n",
      "message_date    123036 non-null object\n",
      "user_id         123036 non-null int64\n",
      "dtypes: int64(1), object(2)\n",
      "memory usage: 2.8+ MB\n"
     ]
    },
    {
     "data": {
      "text/html": [
       "<div>\n",
       "<style scoped>\n",
       "    .dataframe tbody tr th:only-of-type {\n",
       "        vertical-align: middle;\n",
       "    }\n",
       "\n",
       "    .dataframe tbody tr th {\n",
       "        vertical-align: top;\n",
       "    }\n",
       "\n",
       "    .dataframe thead th {\n",
       "        text-align: right;\n",
       "    }\n",
       "</style>\n",
       "<table border=\"1\" class=\"dataframe\">\n",
       "  <thead>\n",
       "    <tr style=\"text-align: right;\">\n",
       "      <th></th>\n",
       "      <th>id</th>\n",
       "      <th>message_date</th>\n",
       "      <th>user_id</th>\n",
       "    </tr>\n",
       "  </thead>\n",
       "  <tbody>\n",
       "    <tr>\n",
       "      <td>53848</td>\n",
       "      <td>1238_261</td>\n",
       "      <td>2018-12-04</td>\n",
       "      <td>1238</td>\n",
       "    </tr>\n",
       "    <tr>\n",
       "      <td>14577</td>\n",
       "      <td>1064_264</td>\n",
       "      <td>2018-12-05</td>\n",
       "      <td>1064</td>\n",
       "    </tr>\n",
       "    <tr>\n",
       "      <td>94184</td>\n",
       "      <td>1385_893</td>\n",
       "      <td>2018-07-20</td>\n",
       "      <td>1385</td>\n",
       "    </tr>\n",
       "    <tr>\n",
       "      <td>81483</td>\n",
       "      <td>1341_337</td>\n",
       "      <td>2018-08-09</td>\n",
       "      <td>1341</td>\n",
       "    </tr>\n",
       "    <tr>\n",
       "      <td>35481</td>\n",
       "      <td>1151_31</td>\n",
       "      <td>2018-11-25</td>\n",
       "      <td>1151</td>\n",
       "    </tr>\n",
       "    <tr>\n",
       "      <td>56159</td>\n",
       "      <td>1249_93</td>\n",
       "      <td>2018-10-01</td>\n",
       "      <td>1249</td>\n",
       "    </tr>\n",
       "    <tr>\n",
       "      <td>55131</td>\n",
       "      <td>1244_297</td>\n",
       "      <td>2018-06-06</td>\n",
       "      <td>1244</td>\n",
       "    </tr>\n",
       "    <tr>\n",
       "      <td>42405</td>\n",
       "      <td>1183_48</td>\n",
       "      <td>2018-10-21</td>\n",
       "      <td>1183</td>\n",
       "    </tr>\n",
       "    <tr>\n",
       "      <td>27312</td>\n",
       "      <td>1115_3</td>\n",
       "      <td>2018-11-03</td>\n",
       "      <td>1115</td>\n",
       "    </tr>\n",
       "    <tr>\n",
       "      <td>112932</td>\n",
       "      <td>1455_21</td>\n",
       "      <td>2018-05-26</td>\n",
       "      <td>1455</td>\n",
       "    </tr>\n",
       "  </tbody>\n",
       "</table>\n",
       "</div>"
      ],
      "text/plain": [
       "              id message_date  user_id\n",
       "53848   1238_261   2018-12-04     1238\n",
       "14577   1064_264   2018-12-05     1064\n",
       "94184   1385_893   2018-07-20     1385\n",
       "81483   1341_337   2018-08-09     1341\n",
       "35481    1151_31   2018-11-25     1151\n",
       "56159    1249_93   2018-10-01     1249\n",
       "55131   1244_297   2018-06-06     1244\n",
       "42405    1183_48   2018-10-21     1183\n",
       "27312     1115_3   2018-11-03     1115\n",
       "112932   1455_21   2018-05-26     1455"
      ]
     },
     "execution_count": 43,
     "metadata": {},
     "output_type": "execute_result"
    }
   ],
   "source": [
    "messages.info()\n",
    "messages.sample(10)"
   ]
  },
  {
   "cell_type": "markdown",
   "metadata": {},
   "source": [
    "**Internet and Messages**  \n",
    "Добавим столбец \"месяц\". Остальное пока менять не нужно."
   ]
  },
  {
   "cell_type": "code",
   "execution_count": 44,
   "metadata": {},
   "outputs": [],
   "source": [
    "internet['month'] = pd.DatetimeIndex(internet['session_date']).month\n",
    "messages['month'] = pd.DatetimeIndex(messages['message_date']).month"
   ]
  },
  {
   "cell_type": "code",
   "execution_count": 45,
   "metadata": {},
   "outputs": [
    {
     "name": "stdout",
     "output_type": "stream",
     "text": [
      "<class 'pandas.core.frame.DataFrame'>\n",
      "RangeIndex: 500 entries, 0 to 499\n",
      "Data columns (total 8 columns):\n",
      "user_id       500 non-null int64\n",
      "age           500 non-null int64\n",
      "churn_date    38 non-null object\n",
      "city          500 non-null object\n",
      "first_name    500 non-null object\n",
      "last_name     500 non-null object\n",
      "reg_date      500 non-null object\n",
      "tariff        500 non-null object\n",
      "dtypes: int64(2), object(6)\n",
      "memory usage: 31.4+ KB\n"
     ]
    },
    {
     "data": {
      "text/html": [
       "<div>\n",
       "<style scoped>\n",
       "    .dataframe tbody tr th:only-of-type {\n",
       "        vertical-align: middle;\n",
       "    }\n",
       "\n",
       "    .dataframe tbody tr th {\n",
       "        vertical-align: top;\n",
       "    }\n",
       "\n",
       "    .dataframe thead th {\n",
       "        text-align: right;\n",
       "    }\n",
       "</style>\n",
       "<table border=\"1\" class=\"dataframe\">\n",
       "  <thead>\n",
       "    <tr style=\"text-align: right;\">\n",
       "      <th></th>\n",
       "      <th>user_id</th>\n",
       "      <th>age</th>\n",
       "      <th>churn_date</th>\n",
       "      <th>city</th>\n",
       "      <th>first_name</th>\n",
       "      <th>last_name</th>\n",
       "      <th>reg_date</th>\n",
       "      <th>tariff</th>\n",
       "    </tr>\n",
       "  </thead>\n",
       "  <tbody>\n",
       "    <tr>\n",
       "      <td>249</td>\n",
       "      <td>1249</td>\n",
       "      <td>25</td>\n",
       "      <td>NaN</td>\n",
       "      <td>Курск</td>\n",
       "      <td>Изольда</td>\n",
       "      <td>Авдушева</td>\n",
       "      <td>2018-08-14</td>\n",
       "      <td>smart</td>\n",
       "    </tr>\n",
       "    <tr>\n",
       "      <td>106</td>\n",
       "      <td>1106</td>\n",
       "      <td>67</td>\n",
       "      <td>NaN</td>\n",
       "      <td>Калуга</td>\n",
       "      <td>Исаак</td>\n",
       "      <td>Костин</td>\n",
       "      <td>2018-04-26</td>\n",
       "      <td>ultra</td>\n",
       "    </tr>\n",
       "    <tr>\n",
       "      <td>170</td>\n",
       "      <td>1170</td>\n",
       "      <td>69</td>\n",
       "      <td>NaN</td>\n",
       "      <td>Новосибирск</td>\n",
       "      <td>Вадим</td>\n",
       "      <td>Козлов</td>\n",
       "      <td>2018-12-20</td>\n",
       "      <td>smart</td>\n",
       "    </tr>\n",
       "    <tr>\n",
       "      <td>223</td>\n",
       "      <td>1223</td>\n",
       "      <td>20</td>\n",
       "      <td>NaN</td>\n",
       "      <td>Стерлитамак</td>\n",
       "      <td>Алан</td>\n",
       "      <td>Панфилов</td>\n",
       "      <td>2018-12-12</td>\n",
       "      <td>smart</td>\n",
       "    </tr>\n",
       "    <tr>\n",
       "      <td>294</td>\n",
       "      <td>1294</td>\n",
       "      <td>66</td>\n",
       "      <td>NaN</td>\n",
       "      <td>Владивосток</td>\n",
       "      <td>Дебора</td>\n",
       "      <td>Асафьева</td>\n",
       "      <td>2018-02-20</td>\n",
       "      <td>ultra</td>\n",
       "    </tr>\n",
       "    <tr>\n",
       "      <td>308</td>\n",
       "      <td>1308</td>\n",
       "      <td>52</td>\n",
       "      <td>NaN</td>\n",
       "      <td>Москва</td>\n",
       "      <td>Инесса</td>\n",
       "      <td>Корнилова</td>\n",
       "      <td>2018-01-04</td>\n",
       "      <td>smart</td>\n",
       "    </tr>\n",
       "    <tr>\n",
       "      <td>75</td>\n",
       "      <td>1075</td>\n",
       "      <td>25</td>\n",
       "      <td>NaN</td>\n",
       "      <td>Екатеринбург</td>\n",
       "      <td>Рафаэль</td>\n",
       "      <td>Никулин</td>\n",
       "      <td>2018-11-02</td>\n",
       "      <td>smart</td>\n",
       "    </tr>\n",
       "    <tr>\n",
       "      <td>67</td>\n",
       "      <td>1067</td>\n",
       "      <td>45</td>\n",
       "      <td>NaN</td>\n",
       "      <td>Москва</td>\n",
       "      <td>Юзефа</td>\n",
       "      <td>Абашкина</td>\n",
       "      <td>2018-04-09</td>\n",
       "      <td>smart</td>\n",
       "    </tr>\n",
       "    <tr>\n",
       "      <td>86</td>\n",
       "      <td>1086</td>\n",
       "      <td>73</td>\n",
       "      <td>NaN</td>\n",
       "      <td>Волгоград</td>\n",
       "      <td>Ириней</td>\n",
       "      <td>Аксёнов</td>\n",
       "      <td>2018-04-26</td>\n",
       "      <td>smart</td>\n",
       "    </tr>\n",
       "    <tr>\n",
       "      <td>366</td>\n",
       "      <td>1366</td>\n",
       "      <td>43</td>\n",
       "      <td>NaN</td>\n",
       "      <td>Санкт-Петербург</td>\n",
       "      <td>Василиса</td>\n",
       "      <td>Фетисова</td>\n",
       "      <td>2018-06-14</td>\n",
       "      <td>smart</td>\n",
       "    </tr>\n",
       "  </tbody>\n",
       "</table>\n",
       "</div>"
      ],
      "text/plain": [
       "     user_id  age churn_date             city first_name  last_name  \\\n",
       "249     1249   25        NaN            Курск    Изольда   Авдушева   \n",
       "106     1106   67        NaN           Калуга      Исаак     Костин   \n",
       "170     1170   69        NaN      Новосибирск      Вадим     Козлов   \n",
       "223     1223   20        NaN      Стерлитамак       Алан   Панфилов   \n",
       "294     1294   66        NaN      Владивосток     Дебора   Асафьева   \n",
       "308     1308   52        NaN           Москва     Инесса  Корнилова   \n",
       "75      1075   25        NaN     Екатеринбург    Рафаэль    Никулин   \n",
       "67      1067   45        NaN           Москва      Юзефа   Абашкина   \n",
       "86      1086   73        NaN        Волгоград     Ириней    Аксёнов   \n",
       "366     1366   43        NaN  Санкт-Петербург   Василиса   Фетисова   \n",
       "\n",
       "       reg_date tariff  \n",
       "249  2018-08-14  smart  \n",
       "106  2018-04-26  ultra  \n",
       "170  2018-12-20  smart  \n",
       "223  2018-12-12  smart  \n",
       "294  2018-02-20  ultra  \n",
       "308  2018-01-04  smart  \n",
       "75   2018-11-02  smart  \n",
       "67   2018-04-09  smart  \n",
       "86   2018-04-26  smart  \n",
       "366  2018-06-14  smart  "
      ]
     },
     "execution_count": 45,
     "metadata": {},
     "output_type": "execute_result"
    }
   ],
   "source": [
    "users.info()\n",
    "users.sample(10)"
   ]
  },
  {
   "cell_type": "markdown",
   "metadata": {},
   "source": [
    "**Users**  \n",
    "Добавим информацию о тарифах в виде значений 0 и 1"
   ]
  },
  {
   "cell_type": "code",
   "execution_count": 46,
   "metadata": {},
   "outputs": [
    {
     "name": "stdout",
     "output_type": "stream",
     "text": [
      "<class 'pandas.core.frame.DataFrame'>\n",
      "RangeIndex: 2 entries, 0 to 1\n",
      "Data columns (total 8 columns):\n",
      "messages_included        2 non-null int64\n",
      "mb_per_month_included    2 non-null int64\n",
      "minutes_included         2 non-null int64\n",
      "rub_monthly_fee          2 non-null int64\n",
      "rub_per_gb               2 non-null int64\n",
      "rub_per_message          2 non-null int64\n",
      "rub_per_minute           2 non-null int64\n",
      "tariff_name              2 non-null object\n",
      "dtypes: int64(7), object(1)\n",
      "memory usage: 256.0+ bytes\n"
     ]
    }
   ],
   "source": [
    "tariffs.info()\n",
    "#Оставим пока как есть"
   ]
  },
  {
   "cell_type": "code",
   "execution_count": 47,
   "metadata": {},
   "outputs": [],
   "source": [
    "tariffs = tariffs.rename(columns={'tariff_name': 'tariff', 'mb_per_month_included': 'mb_per_month_included'})"
   ]
  },
  {
   "cell_type": "markdown",
   "metadata": {},
   "source": [
    "Приведем даты к Datetime везде"
   ]
  },
  {
   "cell_type": "code",
   "execution_count": 48,
   "metadata": {},
   "outputs": [],
   "source": [
    "calls['call_date']        = pd.to_datetime(calls['call_date'], format = '%Y-%m-%d')\n",
    "internet['session_date']   = pd.to_datetime(internet['session_date'], format = '%Y-%m-%d')\n",
    "messages['message_date'] = pd.to_datetime(messages['message_date'], format = '%Y-%m-%d')\n",
    "users['churn_date']       = pd.to_datetime(users['churn_date'], format = '%Y-%m-%d')\n",
    "users['reg_date']         = pd.to_datetime(users['reg_date'], format = '%Y-%m-%d')"
   ]
  },
  {
   "cell_type": "markdown",
   "metadata": {},
   "source": [
    "**Количество сделанных звонков и израсходованных минут разговора по месяцам**"
   ]
  },
  {
   "cell_type": "code",
   "execution_count": 49,
   "metadata": {},
   "outputs": [],
   "source": [
    "costs = pd.DataFrame()\n",
    "calls_month = calls.pivot_table(\n",
    "    index=['month', 'user_id'],\n",
    "    values='duration',\n",
    "    aggfunc=['count', 'sum']\n",
    ")"
   ]
  },
  {
   "cell_type": "code",
   "execution_count": 50,
   "metadata": {},
   "outputs": [],
   "source": [
    "tmp_df = pd.DataFrame(calls_month.to_records())\n",
    "costs['user_id'] = tmp_df['user_id']\n",
    "costs['month']   = tmp_df['month']\n",
    "costs['calls']   = tmp_df.iloc[:, 2]\n",
    "costs['minutes'] = tmp_df.iloc[:, 3]"
   ]
  },
  {
   "cell_type": "markdown",
   "metadata": {},
   "source": [
    "**Количество отправленных сообщений по месяцам**"
   ]
  },
  {
   "cell_type": "code",
   "execution_count": 51,
   "metadata": {},
   "outputs": [],
   "source": [
    "messages_month = messages.pivot_table(\n",
    "    index=['month', 'user_id'],\n",
    "    values='id',\n",
    "    aggfunc='count'\n",
    ")\n",
    "tmp_df = pd.DataFrame(messages_month.to_records()).rename(columns={'id': 'messages'})"
   ]
  },
  {
   "cell_type": "code",
   "execution_count": 52,
   "metadata": {},
   "outputs": [],
   "source": [
    "costs = costs.merge(tmp_df, on=['user_id', 'month'], how='outer')"
   ]
  },
  {
   "cell_type": "markdown",
   "metadata": {},
   "source": [
    "**Объем израсходованного интернет-трафика по месяцам**"
   ]
  },
  {
   "cell_type": "code",
   "execution_count": 53,
   "metadata": {},
   "outputs": [],
   "source": [
    "internet_month = internet.pivot_table(\n",
    "    index=['month', 'user_id'],\n",
    "    values='gb_used',\n",
    "    aggfunc='sum'\n",
    ")\n",
    "\n",
    "tmp_df = pd.DataFrame(internet_month.to_records())"
   ]
  },
  {
   "cell_type": "code",
   "execution_count": 54,
   "metadata": {},
   "outputs": [
    {
     "name": "stdout",
     "output_type": "stream",
     "text": [
      "<class 'pandas.core.frame.DataFrame'>\n",
      "Int64Index: 3214 entries, 0 to 3213\n",
      "Data columns (total 6 columns):\n",
      "user_id     3214 non-null int64\n",
      "month       3214 non-null int64\n",
      "calls       3174 non-null float64\n",
      "minutes     3174 non-null float64\n",
      "messages    2717 non-null float64\n",
      "gb_used     3203 non-null float64\n",
      "dtypes: float64(4), int64(2)\n",
      "memory usage: 175.8 KB\n"
     ]
    }
   ],
   "source": [
    "costs = costs.merge(tmp_df, on=['user_id', 'month'], how='outer')\n",
    "costs.info()"
   ]
  },
  {
   "cell_type": "markdown",
   "metadata": {},
   "source": [
    "Мы получили в одном датафрейме следующую информацию по пользователям:\n",
    "\n",
    "- количество сделанных звонков и израсходованных минут разговора;\n",
    "- количество отправленных сообщений;\n",
    "- объем израсходованного интернет-трафика в мегабайтах.  \n",
    "\n",
    "После формирования датафрейма появились пропуски по месяцам. Получается, что некоторые пользователи в некоторые месяцы пользовались не всеми услугами. Например, кто-то только мобильным интернетом, а кто-то звонками. Заполним пропуски нулями и позже посмотрим на распределение."
   ]
  },
  {
   "cell_type": "code",
   "execution_count": 115,
   "metadata": {},
   "outputs": [],
   "source": [
    "nan_features = ['calls', 'minutes', 'messages']\n",
    "\n",
    "for f in nan_features:\n",
    "    costs[f] = costs[f].fillna(0).astype('int')\n",
    "\n",
    "costs['gb_used'] = costs['gb_used'].fillna(0)"
   ]
  },
  {
   "cell_type": "code",
   "execution_count": 56,
   "metadata": {},
   "outputs": [
    {
     "data": {
      "text/html": [
       "<div>\n",
       "<style scoped>\n",
       "    .dataframe tbody tr th:only-of-type {\n",
       "        vertical-align: middle;\n",
       "    }\n",
       "\n",
       "    .dataframe tbody tr th {\n",
       "        vertical-align: top;\n",
       "    }\n",
       "\n",
       "    .dataframe thead th {\n",
       "        text-align: right;\n",
       "    }\n",
       "</style>\n",
       "<table border=\"1\" class=\"dataframe\">\n",
       "  <thead>\n",
       "    <tr style=\"text-align: right;\">\n",
       "      <th></th>\n",
       "      <th>user_id</th>\n",
       "      <th>month</th>\n",
       "      <th>calls</th>\n",
       "      <th>minutes</th>\n",
       "      <th>messages</th>\n",
       "      <th>gb_used</th>\n",
       "    </tr>\n",
       "  </thead>\n",
       "  <tbody>\n",
       "    <tr>\n",
       "      <td>110</td>\n",
       "      <td>1429</td>\n",
       "      <td>2</td>\n",
       "      <td>37</td>\n",
       "      <td>240</td>\n",
       "      <td>0</td>\n",
       "      <td>21.783984</td>\n",
       "    </tr>\n",
       "    <tr>\n",
       "      <td>2088</td>\n",
       "      <td>1295</td>\n",
       "      <td>10</td>\n",
       "      <td>28</td>\n",
       "      <td>156</td>\n",
       "      <td>108</td>\n",
       "      <td>19.263770</td>\n",
       "    </tr>\n",
       "    <tr>\n",
       "      <td>2830</td>\n",
       "      <td>1135</td>\n",
       "      <td>12</td>\n",
       "      <td>54</td>\n",
       "      <td>359</td>\n",
       "      <td>24</td>\n",
       "      <td>18.001260</td>\n",
       "    </tr>\n",
       "    <tr>\n",
       "      <td>841</td>\n",
       "      <td>1472</td>\n",
       "      <td>6</td>\n",
       "      <td>82</td>\n",
       "      <td>606</td>\n",
       "      <td>62</td>\n",
       "      <td>23.302490</td>\n",
       "    </tr>\n",
       "    <tr>\n",
       "      <td>4</td>\n",
       "      <td>1071</td>\n",
       "      <td>1</td>\n",
       "      <td>24</td>\n",
       "      <td>194</td>\n",
       "      <td>16</td>\n",
       "      <td>15.238613</td>\n",
       "    </tr>\n",
       "  </tbody>\n",
       "</table>\n",
       "</div>"
      ],
      "text/plain": [
       "      user_id  month  calls  minutes  messages    gb_used\n",
       "110      1429      2     37      240         0  21.783984\n",
       "2088     1295     10     28      156       108  19.263770\n",
       "2830     1135     12     54      359        24  18.001260\n",
       "841      1472      6     82      606        62  23.302490\n",
       "4        1071      1     24      194        16  15.238613"
      ]
     },
     "execution_count": 56,
     "metadata": {},
     "output_type": "execute_result"
    }
   ],
   "source": [
    "costs.sample(5)"
   ]
  },
  {
   "cell_type": "markdown",
   "metadata": {},
   "source": [
    "Добавим информацию о пользователях и тарифах"
   ]
  },
  {
   "cell_type": "code",
   "execution_count": 57,
   "metadata": {},
   "outputs": [],
   "source": [
    "costs = costs.merge(users, on='user_id', how='left')"
   ]
  },
  {
   "cell_type": "code",
   "execution_count": 58,
   "metadata": {},
   "outputs": [],
   "source": [
    "costs = costs.merge(tariffs, on='tariff', how='left')"
   ]
  },
  {
   "cell_type": "markdown",
   "metadata": {},
   "source": [
    "Переименуем столбцы для удобства."
   ]
  },
  {
   "cell_type": "code",
   "execution_count": 59,
   "metadata": {},
   "outputs": [],
   "source": [
    "costs = costs.rename(columns={'minutes_included_y': 'minutes_included',\n",
    "                              'messages_included_y': 'messages_included',\n",
    "                              'mb_per_month_included_y':'mb_per_month_included',\n",
    "                              'rub_monthly_fee_y':'rub_monthly_fee',\n",
    "                              'rub_per_gb_y':'rub_per_gb', 'rub_per_message_y':'rub_per_message',\n",
    "                              'rub_per_minute_y':'rub_per_minute'}\n",
    "                    )"
   ]
  },
  {
   "cell_type": "markdown",
   "metadata": {},
   "source": [
    "Перерасход минут, сообщений и трафика посчитаем как разность между месячным значением и включенным в тариф."
   ]
  },
  {
   "cell_type": "code",
   "execution_count": 60,
   "metadata": {},
   "outputs": [],
   "source": [
    "costs['minutes_over']  = costs['minutes'] - costs['minutes_included']\n",
    "costs['messages_over'] = costs['messages'] - costs['messages_included']\n",
    "costs['gb_used_over']  = costs['gb_used'] - (costs['mb_per_month_included']/1024)\n",
    "costs['gb_used_over'] = costs['gb_used_over'].apply(np.ceil)"
   ]
  },
  {
   "cell_type": "code",
   "execution_count": 61,
   "metadata": {},
   "outputs": [
    {
     "data": {
      "text/html": [
       "<div>\n",
       "<style scoped>\n",
       "    .dataframe tbody tr th:only-of-type {\n",
       "        vertical-align: middle;\n",
       "    }\n",
       "\n",
       "    .dataframe tbody tr th {\n",
       "        vertical-align: top;\n",
       "    }\n",
       "\n",
       "    .dataframe thead th {\n",
       "        text-align: right;\n",
       "    }\n",
       "</style>\n",
       "<table border=\"1\" class=\"dataframe\">\n",
       "  <thead>\n",
       "    <tr style=\"text-align: right;\">\n",
       "      <th></th>\n",
       "      <th>user_id</th>\n",
       "      <th>month</th>\n",
       "      <th>calls</th>\n",
       "      <th>minutes</th>\n",
       "      <th>messages</th>\n",
       "      <th>gb_used</th>\n",
       "      <th>age</th>\n",
       "      <th>churn_date</th>\n",
       "      <th>city</th>\n",
       "      <th>first_name</th>\n",
       "      <th>...</th>\n",
       "      <th>messages_included</th>\n",
       "      <th>mb_per_month_included</th>\n",
       "      <th>minutes_included</th>\n",
       "      <th>rub_monthly_fee</th>\n",
       "      <th>rub_per_gb</th>\n",
       "      <th>rub_per_message</th>\n",
       "      <th>rub_per_minute</th>\n",
       "      <th>minutes_over</th>\n",
       "      <th>messages_over</th>\n",
       "      <th>gb_used_over</th>\n",
       "    </tr>\n",
       "  </thead>\n",
       "  <tbody>\n",
       "    <tr>\n",
       "      <td>663</td>\n",
       "      <td>1099</td>\n",
       "      <td>6</td>\n",
       "      <td>93</td>\n",
       "      <td>683</td>\n",
       "      <td>38</td>\n",
       "      <td>17.241641</td>\n",
       "      <td>67</td>\n",
       "      <td>NaT</td>\n",
       "      <td>Тольятти</td>\n",
       "      <td>Аюна</td>\n",
       "      <td>...</td>\n",
       "      <td>1000</td>\n",
       "      <td>30720</td>\n",
       "      <td>3000</td>\n",
       "      <td>1950</td>\n",
       "      <td>150</td>\n",
       "      <td>1</td>\n",
       "      <td>1</td>\n",
       "      <td>-2317</td>\n",
       "      <td>-962</td>\n",
       "      <td>-12.0</td>\n",
       "    </tr>\n",
       "    <tr>\n",
       "      <td>2518</td>\n",
       "      <td>1294</td>\n",
       "      <td>11</td>\n",
       "      <td>34</td>\n",
       "      <td>267</td>\n",
       "      <td>26</td>\n",
       "      <td>23.974639</td>\n",
       "      <td>66</td>\n",
       "      <td>NaT</td>\n",
       "      <td>Владивосток</td>\n",
       "      <td>Дебора</td>\n",
       "      <td>...</td>\n",
       "      <td>1000</td>\n",
       "      <td>30720</td>\n",
       "      <td>3000</td>\n",
       "      <td>1950</td>\n",
       "      <td>150</td>\n",
       "      <td>1</td>\n",
       "      <td>1</td>\n",
       "      <td>-2733</td>\n",
       "      <td>-974</td>\n",
       "      <td>-6.0</td>\n",
       "    </tr>\n",
       "    <tr>\n",
       "      <td>2226</td>\n",
       "      <td>1456</td>\n",
       "      <td>10</td>\n",
       "      <td>127</td>\n",
       "      <td>889</td>\n",
       "      <td>0</td>\n",
       "      <td>21.742441</td>\n",
       "      <td>40</td>\n",
       "      <td>NaT</td>\n",
       "      <td>Санкт-Петербург</td>\n",
       "      <td>Мануэла</td>\n",
       "      <td>...</td>\n",
       "      <td>50</td>\n",
       "      <td>15360</td>\n",
       "      <td>500</td>\n",
       "      <td>550</td>\n",
       "      <td>200</td>\n",
       "      <td>3</td>\n",
       "      <td>3</td>\n",
       "      <td>389</td>\n",
       "      <td>-50</td>\n",
       "      <td>7.0</td>\n",
       "    </tr>\n",
       "    <tr>\n",
       "      <td>798</td>\n",
       "      <td>1382</td>\n",
       "      <td>6</td>\n",
       "      <td>98</td>\n",
       "      <td>681</td>\n",
       "      <td>74</td>\n",
       "      <td>7.660576</td>\n",
       "      <td>42</td>\n",
       "      <td>NaT</td>\n",
       "      <td>Самара</td>\n",
       "      <td>Оксана</td>\n",
       "      <td>...</td>\n",
       "      <td>1000</td>\n",
       "      <td>30720</td>\n",
       "      <td>3000</td>\n",
       "      <td>1950</td>\n",
       "      <td>150</td>\n",
       "      <td>1</td>\n",
       "      <td>1</td>\n",
       "      <td>-2319</td>\n",
       "      <td>-926</td>\n",
       "      <td>-22.0</td>\n",
       "    </tr>\n",
       "    <tr>\n",
       "      <td>2868</td>\n",
       "      <td>1174</td>\n",
       "      <td>12</td>\n",
       "      <td>93</td>\n",
       "      <td>603</td>\n",
       "      <td>58</td>\n",
       "      <td>18.552402</td>\n",
       "      <td>29</td>\n",
       "      <td>NaT</td>\n",
       "      <td>Санкт-Петербург</td>\n",
       "      <td>Лолита</td>\n",
       "      <td>...</td>\n",
       "      <td>50</td>\n",
       "      <td>15360</td>\n",
       "      <td>500</td>\n",
       "      <td>550</td>\n",
       "      <td>200</td>\n",
       "      <td>3</td>\n",
       "      <td>3</td>\n",
       "      <td>103</td>\n",
       "      <td>8</td>\n",
       "      <td>4.0</td>\n",
       "    </tr>\n",
       "  </tbody>\n",
       "</table>\n",
       "<p>5 rows × 23 columns</p>\n",
       "</div>"
      ],
      "text/plain": [
       "      user_id  month  calls  minutes  messages    gb_used  age churn_date  \\\n",
       "663      1099      6     93      683        38  17.241641   67        NaT   \n",
       "2518     1294     11     34      267        26  23.974639   66        NaT   \n",
       "2226     1456     10    127      889         0  21.742441   40        NaT   \n",
       "798      1382      6     98      681        74   7.660576   42        NaT   \n",
       "2868     1174     12     93      603        58  18.552402   29        NaT   \n",
       "\n",
       "                 city first_name  ... messages_included mb_per_month_included  \\\n",
       "663          Тольятти       Аюна  ...              1000                 30720   \n",
       "2518      Владивосток     Дебора  ...              1000                 30720   \n",
       "2226  Санкт-Петербург    Мануэла  ...                50                 15360   \n",
       "798            Самара     Оксана  ...              1000                 30720   \n",
       "2868  Санкт-Петербург     Лолита  ...                50                 15360   \n",
       "\n",
       "     minutes_included  rub_monthly_fee  rub_per_gb  rub_per_message  \\\n",
       "663              3000             1950         150                1   \n",
       "2518             3000             1950         150                1   \n",
       "2226              500              550         200                3   \n",
       "798              3000             1950         150                1   \n",
       "2868              500              550         200                3   \n",
       "\n",
       "      rub_per_minute  minutes_over  messages_over  gb_used_over  \n",
       "663                1         -2317           -962         -12.0  \n",
       "2518               1         -2733           -974          -6.0  \n",
       "2226               3           389            -50           7.0  \n",
       "798                1         -2319           -926         -22.0  \n",
       "2868               3           103              8           4.0  \n",
       "\n",
       "[5 rows x 23 columns]"
      ]
     },
     "execution_count": 61,
     "metadata": {},
     "output_type": "execute_result"
    }
   ],
   "source": [
    "costs.sample(5)"
   ]
  },
  {
   "cell_type": "markdown",
   "metadata": {},
   "source": [
    "Перерасход - положительный, остаток - отрицательный."
   ]
  },
  {
   "cell_type": "markdown",
   "metadata": {},
   "source": [
    "Вычтем бесплатный лимит из суммарного количества звонков, сообщений и интернет-трафика,\n",
    "остаток умножим на значение из тарифного плана."
   ]
  },
  {
   "cell_type": "code",
   "execution_count": 62,
   "metadata": {},
   "outputs": [],
   "source": [
    "def calc_monthly_revenue(row):\n",
    "    minutes_price = 0\n",
    "    messages_price = 0\n",
    "    gb_used_price = 0\n",
    "    if row['minutes_over'] > 0:\n",
    "        minutes_price = row['minutes_over'] * row['rub_per_minute']\n",
    "    if row['messages_over'] > 0:\n",
    "        messages_price = row['messages_over'] * row['rub_per_message']\n",
    "    if row['gb_used_over'] > 0:\n",
    "        gb_used_price = row['gb_used_over'] * row['rub_per_gb']\n",
    "    return minutes_price + messages_price + gb_used_price"
   ]
  },
  {
   "cell_type": "code",
   "execution_count": 63,
   "metadata": {},
   "outputs": [],
   "source": [
    "costs['rub_monthly_over'] = costs.apply(calc_monthly_revenue, axis=1)\n",
    "costs['rub_monthly_total'] = costs['rub_monthly_fee'] + costs['rub_monthly_over']"
   ]
  },
  {
   "cell_type": "markdown",
   "metadata": {},
   "source": [
    "Оставим только то, что нужно нам."
   ]
  },
  {
   "cell_type": "code",
   "execution_count": 64,
   "metadata": {},
   "outputs": [],
   "source": [
    "costs = pd.DataFrame(\n",
    "    costs[['month', 'tariff', 'user_id', 'city',\n",
    "           'calls', 'minutes', 'messages', 'gb_used',\n",
    "           'minutes_over', 'messages_over', 'gb_used_over',\n",
    "           'rub_monthly_over', 'rub_monthly_total']]\n",
    ")"
   ]
  },
  {
   "cell_type": "markdown",
   "metadata": {},
   "source": [
    "Посчитаем сколько пользователей тарифов \"Смарт\" и \"Ультра\" у нас есть"
   ]
  },
  {
   "cell_type": "code",
   "execution_count": 65,
   "metadata": {},
   "outputs": [
    {
     "data": {
      "text/plain": [
       "350"
      ]
     },
     "execution_count": 65,
     "metadata": {},
     "output_type": "execute_result"
    }
   ],
   "source": [
    "smart_costs = costs.query(\"tariff == 'smart'\")\n",
    "len(smart_costs.groupby('user_id'))"
   ]
  },
  {
   "cell_type": "code",
   "execution_count": 66,
   "metadata": {},
   "outputs": [
    {
     "data": {
      "text/plain": [
       "148"
      ]
     },
     "execution_count": 66,
     "metadata": {},
     "output_type": "execute_result"
    }
   ],
   "source": [
    "ultra_costs = costs.query(\"tariff == 'ultra'\")\n",
    "len(ultra_costs.groupby('user_id'))"
   ]
  },
  {
   "cell_type": "markdown",
   "metadata": {},
   "source": [
    "В таблице 350 пользователей \"Смарт\" и пользователей 148 \"Ультра\""
   ]
  },
  {
   "cell_type": "markdown",
   "metadata": {},
   "source": [
    "**Анализ данных**"
   ]
  },
  {
   "cell_type": "markdown",
   "metadata": {},
   "source": [
    "Сделаем сводную таблицу по месяцам"
   ]
  },
  {
   "cell_type": "code",
   "execution_count": 67,
   "metadata": {},
   "outputs": [],
   "source": [
    "values = ['minutes', 'messages', 'gb_used', 'rub_monthly_over', 'rub_monthly_total']\n",
    "tariff_costs = costs.pivot_table(\n",
    "    index=['tariff', 'month'],\n",
    "    values=values\n",
    ")\n",
    "smart_month_costs = tariff_costs.loc['smart']\n",
    "ultra_month_costs = tariff_costs.loc['ultra']"
   ]
  },
  {
   "cell_type": "code",
   "execution_count": 68,
   "metadata": {},
   "outputs": [
    {
     "data": {
      "text/html": [
       "<div>\n",
       "<style scoped>\n",
       "    .dataframe tbody tr th:only-of-type {\n",
       "        vertical-align: middle;\n",
       "    }\n",
       "\n",
       "    .dataframe tbody tr th {\n",
       "        vertical-align: top;\n",
       "    }\n",
       "\n",
       "    .dataframe thead th {\n",
       "        text-align: right;\n",
       "    }\n",
       "</style>\n",
       "<table border=\"1\" class=\"dataframe\">\n",
       "  <thead>\n",
       "    <tr style=\"text-align: right;\">\n",
       "      <th></th>\n",
       "      <th>gb_used</th>\n",
       "      <th>messages</th>\n",
       "      <th>minutes</th>\n",
       "      <th>rub_monthly_over</th>\n",
       "      <th>rub_monthly_total</th>\n",
       "    </tr>\n",
       "    <tr>\n",
       "      <th>month</th>\n",
       "      <th></th>\n",
       "      <th></th>\n",
       "      <th></th>\n",
       "      <th></th>\n",
       "      <th></th>\n",
       "    </tr>\n",
       "  </thead>\n",
       "  <tbody>\n",
       "    <tr>\n",
       "      <td>1</td>\n",
       "      <td>8.314177</td>\n",
       "      <td>18.235294</td>\n",
       "      <td>203.852941</td>\n",
       "      <td>171.323529</td>\n",
       "      <td>721.323529</td>\n",
       "    </tr>\n",
       "    <tr>\n",
       "      <td>2</td>\n",
       "      <td>11.325248</td>\n",
       "      <td>24.086207</td>\n",
       "      <td>298.689655</td>\n",
       "      <td>277.603448</td>\n",
       "      <td>827.603448</td>\n",
       "    </tr>\n",
       "    <tr>\n",
       "      <td>3</td>\n",
       "      <td>14.750155</td>\n",
       "      <td>31.857143</td>\n",
       "      <td>390.051948</td>\n",
       "      <td>614.623377</td>\n",
       "      <td>1164.623377</td>\n",
       "    </tr>\n",
       "    <tr>\n",
       "      <td>4</td>\n",
       "      <td>13.146661</td>\n",
       "      <td>30.741071</td>\n",
       "      <td>367.133929</td>\n",
       "      <td>413.089286</td>\n",
       "      <td>963.089286</td>\n",
       "    </tr>\n",
       "    <tr>\n",
       "      <td>5</td>\n",
       "      <td>15.434750</td>\n",
       "      <td>33.773050</td>\n",
       "      <td>387.361702</td>\n",
       "      <td>647.510638</td>\n",
       "      <td>1197.510638</td>\n",
       "    </tr>\n",
       "    <tr>\n",
       "      <td>6</td>\n",
       "      <td>15.424461</td>\n",
       "      <td>33.402439</td>\n",
       "      <td>395.640244</td>\n",
       "      <td>654.018293</td>\n",
       "      <td>1204.018293</td>\n",
       "    </tr>\n",
       "    <tr>\n",
       "      <td>7</td>\n",
       "      <td>15.374170</td>\n",
       "      <td>33.751244</td>\n",
       "      <td>408.353234</td>\n",
       "      <td>673.950249</td>\n",
       "      <td>1223.950249</td>\n",
       "    </tr>\n",
       "    <tr>\n",
       "      <td>8</td>\n",
       "      <td>16.290729</td>\n",
       "      <td>33.638298</td>\n",
       "      <td>421.468085</td>\n",
       "      <td>770.595745</td>\n",
       "      <td>1320.595745</td>\n",
       "    </tr>\n",
       "    <tr>\n",
       "      <td>9</td>\n",
       "      <td>15.921464</td>\n",
       "      <td>33.638462</td>\n",
       "      <td>428.611538</td>\n",
       "      <td>699.946154</td>\n",
       "      <td>1249.946154</td>\n",
       "    </tr>\n",
       "    <tr>\n",
       "      <td>10</td>\n",
       "      <td>16.364378</td>\n",
       "      <td>33.765306</td>\n",
       "      <td>426.136054</td>\n",
       "      <td>814.853741</td>\n",
       "      <td>1364.853741</td>\n",
       "    </tr>\n",
       "    <tr>\n",
       "      <td>11</td>\n",
       "      <td>16.499704</td>\n",
       "      <td>34.075949</td>\n",
       "      <td>435.265823</td>\n",
       "      <td>793.047468</td>\n",
       "      <td>1343.047468</td>\n",
       "    </tr>\n",
       "    <tr>\n",
       "      <td>12</td>\n",
       "      <td>17.689123</td>\n",
       "      <td>35.994065</td>\n",
       "      <td>478.560831</td>\n",
       "      <td>1028.531157</td>\n",
       "      <td>1578.531157</td>\n",
       "    </tr>\n",
       "  </tbody>\n",
       "</table>\n",
       "</div>"
      ],
      "text/plain": [
       "         gb_used   messages     minutes  rub_monthly_over  rub_monthly_total\n",
       "month                                                                       \n",
       "1       8.314177  18.235294  203.852941        171.323529         721.323529\n",
       "2      11.325248  24.086207  298.689655        277.603448         827.603448\n",
       "3      14.750155  31.857143  390.051948        614.623377        1164.623377\n",
       "4      13.146661  30.741071  367.133929        413.089286         963.089286\n",
       "5      15.434750  33.773050  387.361702        647.510638        1197.510638\n",
       "6      15.424461  33.402439  395.640244        654.018293        1204.018293\n",
       "7      15.374170  33.751244  408.353234        673.950249        1223.950249\n",
       "8      16.290729  33.638298  421.468085        770.595745        1320.595745\n",
       "9      15.921464  33.638462  428.611538        699.946154        1249.946154\n",
       "10     16.364378  33.765306  426.136054        814.853741        1364.853741\n",
       "11     16.499704  34.075949  435.265823        793.047468        1343.047468\n",
       "12     17.689123  35.994065  478.560831       1028.531157        1578.531157"
      ]
     },
     "execution_count": 68,
     "metadata": {},
     "output_type": "execute_result"
    }
   ],
   "source": [
    "smart_month_costs"
   ]
  },
  {
   "cell_type": "code",
   "execution_count": 69,
   "metadata": {},
   "outputs": [
    {
     "data": {
      "text/html": [
       "<div>\n",
       "<style scoped>\n",
       "    .dataframe tbody tr th:only-of-type {\n",
       "        vertical-align: middle;\n",
       "    }\n",
       "\n",
       "    .dataframe tbody tr th {\n",
       "        vertical-align: top;\n",
       "    }\n",
       "\n",
       "    .dataframe thead th {\n",
       "        text-align: right;\n",
       "    }\n",
       "</style>\n",
       "<table border=\"1\" class=\"dataframe\">\n",
       "  <thead>\n",
       "    <tr style=\"text-align: right;\">\n",
       "      <th></th>\n",
       "      <th>gb_used</th>\n",
       "      <th>messages</th>\n",
       "      <th>minutes</th>\n",
       "      <th>rub_monthly_over</th>\n",
       "      <th>rub_monthly_total</th>\n",
       "    </tr>\n",
       "    <tr>\n",
       "      <th>month</th>\n",
       "      <th></th>\n",
       "      <th></th>\n",
       "      <th></th>\n",
       "      <th></th>\n",
       "      <th></th>\n",
       "    </tr>\n",
       "  </thead>\n",
       "  <tbody>\n",
       "    <tr>\n",
       "      <td>1</td>\n",
       "      <td>12.832696</td>\n",
       "      <td>33.777778</td>\n",
       "      <td>428.111111</td>\n",
       "      <td>0.000000</td>\n",
       "      <td>1950.000000</td>\n",
       "    </tr>\n",
       "    <tr>\n",
       "      <td>2</td>\n",
       "      <td>12.545388</td>\n",
       "      <td>21.958333</td>\n",
       "      <td>297.125000</td>\n",
       "      <td>25.000000</td>\n",
       "      <td>1975.000000</td>\n",
       "    </tr>\n",
       "    <tr>\n",
       "      <td>3</td>\n",
       "      <td>17.124561</td>\n",
       "      <td>32.297297</td>\n",
       "      <td>489.648649</td>\n",
       "      <td>64.864865</td>\n",
       "      <td>2014.864865</td>\n",
       "    </tr>\n",
       "    <tr>\n",
       "      <td>4</td>\n",
       "      <td>16.433725</td>\n",
       "      <td>31.563636</td>\n",
       "      <td>458.018182</td>\n",
       "      <td>51.818182</td>\n",
       "      <td>2001.818182</td>\n",
       "    </tr>\n",
       "    <tr>\n",
       "      <td>5</td>\n",
       "      <td>19.195834</td>\n",
       "      <td>37.850746</td>\n",
       "      <td>510.328358</td>\n",
       "      <td>109.701493</td>\n",
       "      <td>2059.701493</td>\n",
       "    </tr>\n",
       "    <tr>\n",
       "      <td>6</td>\n",
       "      <td>18.704053</td>\n",
       "      <td>41.726190</td>\n",
       "      <td>479.702381</td>\n",
       "      <td>89.285714</td>\n",
       "      <td>2039.285714</td>\n",
       "    </tr>\n",
       "    <tr>\n",
       "      <td>7</td>\n",
       "      <td>20.237690</td>\n",
       "      <td>49.846154</td>\n",
       "      <td>545.791209</td>\n",
       "      <td>168.131868</td>\n",
       "      <td>2118.131868</td>\n",
       "    </tr>\n",
       "    <tr>\n",
       "      <td>8</td>\n",
       "      <td>19.297592</td>\n",
       "      <td>48.439252</td>\n",
       "      <td>510.775701</td>\n",
       "      <td>133.177570</td>\n",
       "      <td>2083.177570</td>\n",
       "    </tr>\n",
       "    <tr>\n",
       "      <td>9</td>\n",
       "      <td>18.918687</td>\n",
       "      <td>52.286957</td>\n",
       "      <td>539.443478</td>\n",
       "      <td>74.347826</td>\n",
       "      <td>2024.347826</td>\n",
       "    </tr>\n",
       "    <tr>\n",
       "      <td>10</td>\n",
       "      <td>19.735980</td>\n",
       "      <td>58.430894</td>\n",
       "      <td>558.081301</td>\n",
       "      <td>115.853659</td>\n",
       "      <td>2065.853659</td>\n",
       "    </tr>\n",
       "    <tr>\n",
       "      <td>11</td>\n",
       "      <td>19.468345</td>\n",
       "      <td>55.791045</td>\n",
       "      <td>541.380597</td>\n",
       "      <td>142.164179</td>\n",
       "      <td>2092.164179</td>\n",
       "    </tr>\n",
       "    <tr>\n",
       "      <td>12</td>\n",
       "      <td>21.436615</td>\n",
       "      <td>60.611511</td>\n",
       "      <td>592.805755</td>\n",
       "      <td>188.848921</td>\n",
       "      <td>2138.848921</td>\n",
       "    </tr>\n",
       "  </tbody>\n",
       "</table>\n",
       "</div>"
      ],
      "text/plain": [
       "         gb_used   messages     minutes  rub_monthly_over  rub_monthly_total\n",
       "month                                                                       \n",
       "1      12.832696  33.777778  428.111111          0.000000        1950.000000\n",
       "2      12.545388  21.958333  297.125000         25.000000        1975.000000\n",
       "3      17.124561  32.297297  489.648649         64.864865        2014.864865\n",
       "4      16.433725  31.563636  458.018182         51.818182        2001.818182\n",
       "5      19.195834  37.850746  510.328358        109.701493        2059.701493\n",
       "6      18.704053  41.726190  479.702381         89.285714        2039.285714\n",
       "7      20.237690  49.846154  545.791209        168.131868        2118.131868\n",
       "8      19.297592  48.439252  510.775701        133.177570        2083.177570\n",
       "9      18.918687  52.286957  539.443478         74.347826        2024.347826\n",
       "10     19.735980  58.430894  558.081301        115.853659        2065.853659\n",
       "11     19.468345  55.791045  541.380597        142.164179        2092.164179\n",
       "12     21.436615  60.611511  592.805755        188.848921        2138.848921"
      ]
     },
     "execution_count": 69,
     "metadata": {},
     "output_type": "execute_result"
    }
   ],
   "source": [
    "ultra_month_costs"
   ]
  },
  {
   "cell_type": "markdown",
   "metadata": {},
   "source": [
    "**Минуты разговора, количество сообщений и объём интернет-трафика в среднем необходимые пользователям каждого тарифа в месяц**"
   ]
  },
  {
   "cell_type": "code",
   "execution_count": 70,
   "metadata": {},
   "outputs": [
    {
     "data": {
      "text/html": [
       "<div>\n",
       "<style scoped>\n",
       "    .dataframe tbody tr th:only-of-type {\n",
       "        vertical-align: middle;\n",
       "    }\n",
       "\n",
       "    .dataframe tbody tr th {\n",
       "        vertical-align: top;\n",
       "    }\n",
       "\n",
       "    .dataframe thead th {\n",
       "        text-align: right;\n",
       "    }\n",
       "</style>\n",
       "<table border=\"1\" class=\"dataframe\">\n",
       "  <thead>\n",
       "    <tr style=\"text-align: right;\">\n",
       "      <th></th>\n",
       "      <th>gb_used</th>\n",
       "      <th>messages</th>\n",
       "      <th>minutes</th>\n",
       "      <th>rub_monthly_over</th>\n",
       "      <th>rub_monthly_total</th>\n",
       "    </tr>\n",
       "    <tr>\n",
       "      <th>tariff</th>\n",
       "      <th></th>\n",
       "      <th></th>\n",
       "      <th></th>\n",
       "      <th></th>\n",
       "      <th></th>\n",
       "    </tr>\n",
       "  </thead>\n",
       "  <tbody>\n",
       "    <tr>\n",
       "      <td>smart</td>\n",
       "      <td>14.711252</td>\n",
       "      <td>31.413211</td>\n",
       "      <td>386.760499</td>\n",
       "      <td>629.924424</td>\n",
       "      <td>1179.924424</td>\n",
       "    </tr>\n",
       "    <tr>\n",
       "      <td>ultra</td>\n",
       "      <td>17.994264</td>\n",
       "      <td>43.714983</td>\n",
       "      <td>495.934310</td>\n",
       "      <td>96.932856</td>\n",
       "      <td>2046.932856</td>\n",
       "    </tr>\n",
       "  </tbody>\n",
       "</table>\n",
       "</div>"
      ],
      "text/plain": [
       "          gb_used   messages     minutes  rub_monthly_over  rub_monthly_total\n",
       "tariff                                                                       \n",
       "smart   14.711252  31.413211  386.760499        629.924424        1179.924424\n",
       "ultra   17.994264  43.714983  495.934310         96.932856        2046.932856"
      ]
     },
     "execution_count": 70,
     "metadata": {},
     "output_type": "execute_result"
    }
   ],
   "source": [
    "tariff_usage = tariff_costs.pivot_table(\n",
    "    index='tariff',\n",
    "    values=values\n",
    ")\n",
    "tariff_usage"
   ]
  },
  {
   "cell_type": "markdown",
   "metadata": {},
   "source": [
    "**Вывод** :\n",
    "- Пользователи тарифа Ультра более активны, но пользователи тарифа Смарт тратят в среднем в 6 раз больше на дополнительные пакеты услуг. Оператор может использовать это для маркетинговой компании.\n",
    "- Оператору больше денег приносит тариф Ультра, даже с учетом того, что в среднем пользователи не выходят за границы тарифных лимитов, а пользователи тарифа Смарт не тратят столько денег, чтобы перегнать стоимость тарифа Ультра.   \n",
    "**Таким образом, для пользователя выгоднее тариф Смарт.**"
   ]
  },
  {
   "cell_type": "markdown",
   "metadata": {},
   "source": [
    "**Посмотрим ситуацию по городам**"
   ]
  },
  {
   "cell_type": "code",
   "execution_count": 71,
   "metadata": {},
   "outputs": [
    {
     "data": {
      "text/html": [
       "<div>\n",
       "<style scoped>\n",
       "    .dataframe tbody tr th:only-of-type {\n",
       "        vertical-align: middle;\n",
       "    }\n",
       "\n",
       "    .dataframe tbody tr th {\n",
       "        vertical-align: top;\n",
       "    }\n",
       "\n",
       "    .dataframe thead th {\n",
       "        text-align: right;\n",
       "    }\n",
       "</style>\n",
       "<table border=\"1\" class=\"dataframe\">\n",
       "  <thead>\n",
       "    <tr style=\"text-align: right;\">\n",
       "      <th></th>\n",
       "      <th>gb_used</th>\n",
       "      <th>messages</th>\n",
       "      <th>minutes</th>\n",
       "      <th>rub_monthly_over</th>\n",
       "      <th>rub_monthly_total</th>\n",
       "    </tr>\n",
       "    <tr>\n",
       "      <th>city</th>\n",
       "      <th></th>\n",
       "      <th></th>\n",
       "      <th></th>\n",
       "      <th></th>\n",
       "      <th></th>\n",
       "    </tr>\n",
       "  </thead>\n",
       "  <tbody>\n",
       "    <tr>\n",
       "      <td>Другой регион</td>\n",
       "      <td>15.365499</td>\n",
       "      <td>35.268458</td>\n",
       "      <td>413.245425</td>\n",
       "      <td>477.922075</td>\n",
       "      <td>1424.462123</td>\n",
       "    </tr>\n",
       "    <tr>\n",
       "      <td>Москва</td>\n",
       "      <td>17.166180</td>\n",
       "      <td>33.944639</td>\n",
       "      <td>444.005793</td>\n",
       "      <td>416.459916</td>\n",
       "      <td>1511.425186</td>\n",
       "    </tr>\n",
       "  </tbody>\n",
       "</table>\n",
       "</div>"
      ],
      "text/plain": [
       "                 gb_used   messages     minutes  rub_monthly_over  \\\n",
       "city                                                                \n",
       "Другой регион  15.365499  35.268458  413.245425        477.922075   \n",
       "Москва         17.166180  33.944639  444.005793        416.459916   \n",
       "\n",
       "               rub_monthly_total  \n",
       "city                              \n",
       "Другой регион        1424.462123  \n",
       "Москва               1511.425186  "
      ]
     },
     "execution_count": 71,
     "metadata": {},
     "output_type": "execute_result"
    }
   ],
   "source": [
    "moscow = costs['city'] == 'Москва'\n",
    "costs['city'].where(moscow, 'Другой регион', inplace=True)\n",
    "\n",
    "city_costs = costs.pivot_table(\n",
    "    index=['city', 'month'],\n",
    "    values=values\n",
    ")\n",
    "\n",
    "city_use = city_costs.pivot_table(\n",
    "    index='city',\n",
    "    values=values\n",
    ")\n",
    "city_use"
   ]
  },
  {
   "cell_type": "markdown",
   "metadata": {},
   "source": [
    "По средним значениям выручки пользователей Москвы и регионов получается, что разница не велика. Пользователи примерно отправляют одинаковое количество смс и звонят так же примерно одинаково. В Москве чуть больше потребляют трафика, но не намного."
   ]
  },
  {
   "cell_type": "markdown",
   "metadata": {},
   "source": [
    "**Дисперсия и стандартное отклонение**"
   ]
  },
  {
   "cell_type": "markdown",
   "metadata": {},
   "source": [
    "**Звонки**"
   ]
  },
  {
   "cell_type": "code",
   "execution_count": 72,
   "metadata": {},
   "outputs": [
    {
     "data": {
      "text/plain": [
       "count    2229.000000\n",
       "mean      417.934948\n",
       "std       190.313730\n",
       "min         0.000000\n",
       "25%       282.000000\n",
       "50%       422.000000\n",
       "75%       545.000000\n",
       "max      1435.000000\n",
       "Name: minutes, dtype: float64"
      ]
     },
     "execution_count": 72,
     "metadata": {},
     "output_type": "execute_result"
    }
   ],
   "source": [
    "smart_costs['minutes'].describe()"
   ]
  },
  {
   "cell_type": "code",
   "execution_count": 73,
   "metadata": {},
   "outputs": [
    {
     "data": {
      "text/plain": [
       "count     985.000000\n",
       "mean      526.623350\n",
       "std       317.606098\n",
       "min         0.000000\n",
       "25%       284.000000\n",
       "50%       518.000000\n",
       "75%       752.000000\n",
       "max      1673.000000\n",
       "Name: minutes, dtype: float64"
      ]
     },
     "execution_count": 73,
     "metadata": {},
     "output_type": "execute_result"
    }
   ],
   "source": [
    "ultra_costs['minutes'].describe()"
   ]
  },
  {
   "cell_type": "code",
   "execution_count": 109,
   "metadata": {},
   "outputs": [
    {
     "data": {
      "image/png": "[encoded data removed]",
      "text/plain": [
       "<Figure size 432x288 with 1 Axes>"
      ]
     },
     "metadata": {
      "needs_background": "light"
     },
     "output_type": "display_data"
    }
   ],
   "source": [
    "fig, ax = plt.subplots()\n",
    "plt.hist(smart_costs['minutes'], bins=50, label='smart')\n",
    "plt.hist(ultra_costs['minutes'], bins=50, label='ultra', alpha=0.7)\n",
    "plt.legend(loc='upper right')\n",
    "plt.title('Звонки')\n",
    "ax.set_xlabel('Количество минут')\n",
    "ax.set_ylabel('Абоненты')\n",
    "plt.show()"
   ]
  },
  {
   "cell_type": "markdown",
   "metadata": {},
   "source": [
    "Дисперсия по звонкам"
   ]
  },
  {
   "cell_type": "code",
   "execution_count": 75,
   "metadata": {},
   "outputs": [],
   "source": [
    "smart_minutes_var = np.var(smart_costs['minutes'], ddof=1)\n",
    "ultra_minutes_var = np.var(ultra_costs['minutes'], ddof=1)"
   ]
  },
  {
   "cell_type": "code",
   "execution_count": 76,
   "metadata": {},
   "outputs": [
    {
     "data": {
      "text/plain": [
       "36219.31578434428"
      ]
     },
     "execution_count": 76,
     "metadata": {},
     "output_type": "execute_result"
    }
   ],
   "source": [
    "smart_minutes_var"
   ]
  },
  {
   "cell_type": "code",
   "execution_count": 77,
   "metadata": {},
   "outputs": [
    {
     "data": {
      "text/plain": [
       "100873.63339730098"
      ]
     },
     "execution_count": 77,
     "metadata": {},
     "output_type": "execute_result"
    }
   ],
   "source": [
    "ultra_minutes_var"
   ]
  },
  {
   "cell_type": "markdown",
   "metadata": {},
   "source": [
    "Стандартное отклонение"
   ]
  },
  {
   "cell_type": "code",
   "execution_count": 78,
   "metadata": {},
   "outputs": [
    {
     "data": {
      "text/plain": [
       "190.31372988921288"
      ]
     },
     "execution_count": 78,
     "metadata": {},
     "output_type": "execute_result"
    }
   ],
   "source": [
    "smart_call_std = math.sqrt(smart_minutes_var)\n",
    "smart_call_std"
   ]
  },
  {
   "cell_type": "code",
   "execution_count": 79,
   "metadata": {},
   "outputs": [
    {
     "data": {
      "text/plain": [
       "317.6060978591264"
      ]
     },
     "execution_count": 79,
     "metadata": {},
     "output_type": "execute_result"
    }
   ],
   "source": [
    "ultra_call_std = math.sqrt(ultra_minutes_var)\n",
    "ultra_call_std"
   ]
  },
  {
   "cell_type": "markdown",
   "metadata": {},
   "source": [
    "В тарифе \"Смарт\" при среднем количестве звонков 417 минут, разброс бывает в пределах 190 минут. Т.е. пользователи часто превышают включенный пакет минут. \n",
    "В тарифе \"Ультра\" ситуация лучше. Включенного пакета хватает всем пользователям.\n",
    "\n",
    "P.s. выбросы имеют место, но они не влияют на общую картину."
   ]
  },
  {
   "cell_type": "markdown",
   "metadata": {},
   "source": [
    "**Сообщения**"
   ]
  },
  {
   "cell_type": "code",
   "execution_count": 80,
   "metadata": {},
   "outputs": [
    {
     "data": {
      "text/plain": [
       "count    2229.000000\n",
       "mean       33.384029\n",
       "std        28.227876\n",
       "min         0.000000\n",
       "25%        10.000000\n",
       "50%        28.000000\n",
       "75%        51.000000\n",
       "max       143.000000\n",
       "Name: messages, dtype: float64"
      ]
     },
     "execution_count": 80,
     "metadata": {},
     "output_type": "execute_result"
    }
   ],
   "source": [
    "smart_costs['messages'].describe()"
   ]
  },
  {
   "cell_type": "code",
   "execution_count": 81,
   "metadata": {},
   "outputs": [
    {
     "data": {
      "text/plain": [
       "count    985.000000\n",
       "mean      49.363452\n",
       "std       47.804457\n",
       "min        0.000000\n",
       "25%        6.000000\n",
       "50%       38.000000\n",
       "75%       79.000000\n",
       "max      224.000000\n",
       "Name: messages, dtype: float64"
      ]
     },
     "execution_count": 81,
     "metadata": {},
     "output_type": "execute_result"
    }
   ],
   "source": [
    "ultra_costs['messages'].describe()"
   ]
  },
  {
   "cell_type": "code",
   "execution_count": 111,
   "metadata": {},
   "outputs": [
    {
     "data": {
      "image/png": "[encoded data removed]",
      "text/plain": [
       "<Figure size 432x288 with 1 Axes>"
      ]
     },
     "metadata": {
      "needs_background": "light"
     },
     "output_type": "display_data"
    }
   ],
   "source": [
    "fig, ax = plt.subplots()\n",
    "plt.hist(smart_costs['messages'], bins=50, label='smart')\n",
    "plt.hist(ultra_costs['messages'], bins=50, label='ultra', alpha=0.7)\n",
    "plt.legend(loc='upper right')\n",
    "plt.title('Собщения')\n",
    "ax.set_xlabel('Количество сообщений')\n",
    "ax.set_ylabel('Абоненты')\n",
    "plt.show()"
   ]
  },
  {
   "cell_type": "markdown",
   "metadata": {},
   "source": [
    "Дисперсия по сообщениям"
   ]
  },
  {
   "cell_type": "code",
   "execution_count": 83,
   "metadata": {},
   "outputs": [],
   "source": [
    "smart_messages_var = np.var(smart_costs['messages'], ddof=1)\n",
    "ultra_messages_var = np.var(ultra_costs['messages'], ddof=1)"
   ]
  },
  {
   "cell_type": "code",
   "execution_count": 84,
   "metadata": {},
   "outputs": [
    {
     "data": {
      "text/plain": [
       "796.8129584480083"
      ]
     },
     "execution_count": 84,
     "metadata": {},
     "output_type": "execute_result"
    }
   ],
   "source": [
    "smart_messages_var"
   ]
  },
  {
   "cell_type": "code",
   "execution_count": 85,
   "metadata": {},
   "outputs": [
    {
     "data": {
      "text/plain": [
       "2285.266142544674"
      ]
     },
     "execution_count": 85,
     "metadata": {},
     "output_type": "execute_result"
    }
   ],
   "source": [
    "ultra_messages_var"
   ]
  },
  {
   "cell_type": "markdown",
   "metadata": {},
   "source": [
    "Стандартное отклонение"
   ]
  },
  {
   "cell_type": "code",
   "execution_count": 86,
   "metadata": {},
   "outputs": [
    {
     "data": {
      "text/plain": [
       "28.22787555676141"
      ]
     },
     "execution_count": 86,
     "metadata": {},
     "output_type": "execute_result"
    }
   ],
   "source": [
    "smart_messages_std = math.sqrt(smart_messages_var)\n",
    "smart_messages_std"
   ]
  },
  {
   "cell_type": "code",
   "execution_count": 87,
   "metadata": {},
   "outputs": [
    {
     "data": {
      "text/plain": [
       "47.80445735017472"
      ]
     },
     "execution_count": 87,
     "metadata": {},
     "output_type": "execute_result"
    }
   ],
   "source": [
    "ultra_messages_std = math.sqrt(ultra_messages_var)\n",
    "ultra_messages_std"
   ]
  },
  {
   "cell_type": "markdown",
   "metadata": {},
   "source": [
    "По сообщениям ситуация более спокойная. Сообщений хватает всем пользователям \"Ультры\" и подавляющему количеству пользователей \"Смарт\". Может из-за того, что смс-ки не такие популярные, как лет 15 назад?"
   ]
  },
  {
   "cell_type": "markdown",
   "metadata": {},
   "source": [
    "**Интернет**"
   ]
  },
  {
   "cell_type": "code",
   "execution_count": 88,
   "metadata": {},
   "outputs": [
    {
     "data": {
      "text/plain": [
       "count    2228.000000\n",
       "mean       15.835607\n",
       "std         5.724352\n",
       "min         0.000000\n",
       "25%        12.352805\n",
       "50%        16.120840\n",
       "75%        19.574016\n",
       "max        37.648877\n",
       "Name: gb_used, dtype: float64"
      ]
     },
     "execution_count": 88,
     "metadata": {},
     "output_type": "execute_result"
    }
   ],
   "source": [
    "smart_costs['gb_used'].describe()"
   ]
  },
  {
   "cell_type": "code",
   "execution_count": 89,
   "metadata": {},
   "outputs": [
    {
     "data": {
      "text/plain": [
       "count    975.000000\n",
       "mean      19.207505\n",
       "std        9.710010\n",
       "min        0.000000\n",
       "25%       11.726860\n",
       "50%       18.939736\n",
       "75%       26.266162\n",
       "max       48.579775\n",
       "Name: gb_used, dtype: float64"
      ]
     },
     "execution_count": 89,
     "metadata": {},
     "output_type": "execute_result"
    }
   ],
   "source": [
    "ultra_costs['gb_used'].describe()"
   ]
  },
  {
   "cell_type": "code",
   "execution_count": 112,
   "metadata": {},
   "outputs": [
    {
     "data": {
      "image/png": "[encoded data removed]",
      "text/plain": [
       "<Figure size 432x288 with 1 Axes>"
      ]
     },
     "metadata": {
      "needs_background": "light"
     },
     "output_type": "display_data"
    }
   ],
   "source": [
    "fig, ax = plt.subplots()\n",
    "plt.hist(smart_costs['gb_used'], bins=50, label='smart')\n",
    "plt.hist(ultra_costs['gb_used'], bins=50, label='ultra', alpha=0.7)\n",
    "plt.legend(loc='upper right')\n",
    "plt.title('Интернет')\n",
    "ax.set_xlabel('Интернет трафик')\n",
    "ax.set_ylabel('Абоненты')\n",
    "plt.show()"
   ]
  },
  {
   "cell_type": "code",
   "execution_count": 91,
   "metadata": {},
   "outputs": [],
   "source": [
    "smart_gb_used_var = np.var(smart_costs['gb_used'], ddof=1)\n",
    "ultra_gb_used_var = np.var(ultra_costs['gb_used'], ddof=1)"
   ]
  },
  {
   "cell_type": "code",
   "execution_count": 92,
   "metadata": {},
   "outputs": [
    {
     "data": {
      "text/plain": [
       "32.76820343235317"
      ]
     },
     "execution_count": 92,
     "metadata": {},
     "output_type": "execute_result"
    }
   ],
   "source": [
    "smart_gb_used_var"
   ]
  },
  {
   "cell_type": "code",
   "execution_count": 93,
   "metadata": {},
   "outputs": [
    {
     "data": {
      "text/plain": [
       "94.28429503691821"
      ]
     },
     "execution_count": 93,
     "metadata": {},
     "output_type": "execute_result"
    }
   ],
   "source": [
    "ultra_gb_used_var"
   ]
  },
  {
   "cell_type": "markdown",
   "metadata": {},
   "source": [
    "Стандартное отклонение"
   ]
  },
  {
   "cell_type": "code",
   "execution_count": 94,
   "metadata": {},
   "outputs": [
    {
     "data": {
      "text/plain": [
       "5.724351791456669"
      ]
     },
     "execution_count": 94,
     "metadata": {},
     "output_type": "execute_result"
    }
   ],
   "source": [
    "smart_gb_used_std = math.sqrt(smart_gb_used_var)\n",
    "smart_gb_used_std"
   ]
  },
  {
   "cell_type": "code",
   "execution_count": 95,
   "metadata": {},
   "outputs": [
    {
     "data": {
      "text/plain": [
       "9.710010043090492"
      ]
     },
     "execution_count": 95,
     "metadata": {},
     "output_type": "execute_result"
    }
   ],
   "source": [
    "ultra_gb_used_std = math.sqrt(ultra_gb_used_var)\n",
    "ultra_gb_used_std"
   ]
  },
  {
   "cell_type": "markdown",
   "metadata": {},
   "source": [
    "\"Смарт\" - 15 Гб трафика для поьзователей маловато, только половина пользователей укладывается во включенный пакет. Остальные вынуждены оплачивать дополнительные мегабайты.\n",
    "\"Ультра\" - пользователи этого тарифа довольны. Им хватает включенного пакета для своих нужд."
   ]
  },
  {
   "cell_type": "markdown",
   "metadata": {},
   "source": [
    "**Проверим гипотезы**"
   ]
  },
  {
   "cell_type": "markdown",
   "metadata": {},
   "source": [
    "Мы рассматриваем две генеральные сопокупности – пользователей разных тарифов мобильного оператора. Проверим две (двусторонние) гипотезы о равенстве среднего двух генеральных совокупностей по взятым из них выборкам. Чтобы понять, различается ли средняя выручка пользователей разных тарифов и населенных пунктов, значима ли разница между средними значениями, проведем статистические тесты."
   ]
  },
  {
   "cell_type": "markdown",
   "metadata": {},
   "source": [
    "**Cредняя выручка пользователей тарифов «Ультра» и «Смарт» различается**"
   ]
  },
  {
   "cell_type": "markdown",
   "metadata": {},
   "source": [
    "Средняя выручка пользователя тарифа \"Смарт\": 1127.79 руб\n",
    "Средняя выручка пользователя тарифа \"Ультра\": 2038.35 руб\n",
    "\n",
    "Нулевая гипотеза H₀:  \n",
    "Средняя выручка пользователей тарифов \"Ультра\" и \"Смарт\" не различается\n",
    "\n",
    "Альтернативная гипотеза H₁:  \n",
    "Средняя выручка пользователей тарифов \"Ультра\" и \"Смарт\" различается"
   ]
  },
  {
   "cell_type": "markdown",
   "metadata": {},
   "source": [
    "Пороговое значение alpha (критический уровень статистической значимости) зададим равным 1%."
   ]
  },
  {
   "cell_type": "code",
   "execution_count": 96,
   "metadata": {},
   "outputs": [
    {
     "name": "stdout",
     "output_type": "stream",
     "text": [
      "P-value: 1.4229814360764067e-160\n",
      "Отвергаем нулевую гипотезу\n"
     ]
    }
   ],
   "source": [
    "alpha = 0.01\n",
    "\n",
    "results = st.ttest_ind(\n",
    "    smart_costs['rub_monthly_total'], \n",
    "    ultra_costs['rub_monthly_total'])\n",
    "\n",
    "print('P-value: {}'.format(results.pvalue))\n",
    "\n",
    "if (results.pvalue < alpha):\n",
    "    print(\"Отвергаем нулевую гипотезу\")\n",
    "else:\n",
    "    print(\"Не получилось отвергнуть нулевую гипотезу\")"
   ]
  },
  {
   "cell_type": "markdown",
   "metadata": {},
   "source": [
    "Средняя выручка по тарифам не одинакова, и нулевая вероятность говорит о том, что случайно получить такое отличие в значениях не получится. Значит, средняя выручка пользователей тарифов \"Ультра\" и \"Смарт\" различается и наша гипотеза подтвердилась."
   ]
  },
  {
   "cell_type": "markdown",
   "metadata": {},
   "source": [
    "**Cредняя выручка пользователей из Москвы отличается от выручки пользователей из других регионов**"
   ]
  },
  {
   "cell_type": "markdown",
   "metadata": {},
   "source": [
    "Средняя выручка пользователей Москвы: 1473.66 руб\n",
    "Средняя выручка пользователей других регионов: 1385.41 руб\n",
    "\n",
    "Нулевая гипотеза H₀:  \n",
    "Cредняя выручка пользователей из Москвы не отличается от выручки пользователей из других регионов\n",
    "\n",
    "Альтернативная гипотеза H₁:  \n",
    "Cредняя выручка пользователей из Москвы отличается от выручки пользователей из других регионов"
   ]
  },
  {
   "cell_type": "markdown",
   "metadata": {},
   "source": [
    "Пороговое значение alpha (критический уровень статистической значимости) зададим равным 5%."
   ]
  },
  {
   "cell_type": "code",
   "execution_count": 97,
   "metadata": {},
   "outputs": [
    {
     "name": "stdout",
     "output_type": "stream",
     "text": [
      "P-value: 0.5440152911670224\n",
      "Не получилось отвергнуть нулевую гипотезу\n"
     ]
    }
   ],
   "source": [
    "alpha = 0.05\n",
    "\n",
    "moscow = costs.query(\"city == 'Москва'\")['rub_monthly_total']\n",
    "other_cities = costs.query(\"city == 'Другой регион'\")['rub_monthly_total']\n",
    "\n",
    "results = st.ttest_ind(moscow, other_cities)\n",
    "\n",
    "print('P-value: {}'.format(results.pvalue))\n",
    "\n",
    "if (results.pvalue < alpha):\n",
    "    print(\"Отвергаем нулевую гипотезу\")\n",
    "else:\n",
    "    print(\"Не получилось отвергнуть нулевую гипотезу\")"
   ]
  },
  {
   "cell_type": "markdown",
   "metadata": {},
   "source": [
    "Значение P-value говорит о том, что даже если средняя выручка пользователей из Москвы и регионов неодинакова, с вероятностью в 52% такое различие можно получить случайно. Это слишком большая вероятность, чтобы делать вывод о значимом различии между средними выручками. Таким образом, средняя выручка пользователей из Москвы не отличается от выручки пользователей из других регионов. Гипотеза не подтвердилась."
   ]
  },
  {
   "cell_type": "markdown",
   "metadata": {},
   "source": [
    "**Вывод**"
   ]
  },
  {
   "cell_type": "markdown",
   "metadata": {},
   "source": [
    "Из двух наших гипотез подтвердилась только первая:  \n",
    "\n",
    "**Cредняя выручка пользователей тарифов «Ультра» и «Смарт» различается**  \n",
    "\n",
    "На вопрос \"какой тариф лучше?\" можем сказать, что \n",
    "\n",
    "- для оператора лучше тариф \"Ультра\"  \n",
    "- для пользователя лучше тариф \"Смарт\"\n",
    "\n",
    "Средняя прибыльность в двух тарифах отличается. Средние израсходованные количество звонков, сообщений и мегабайт интернет трафика не так сильно отличаются между тарифами, тогда как базовая стоимость тарифов отличается почти в 4 раза!\n",
    "\n",
    "Возможно оператору стоит ввести еще один, промежуточный, тариф. Который позволил бы абонентам более комфортно пользоваться услугами, не выходя за пределы включенных пакетов. И абонентская плата находилась бы между \"Смартом\" и \"Ультрой\""
   ]
  }
 ],
 "metadata": {
  "kernelspec": {
   "display_name": "Python 3",
   "language": "python",
   "name": "python3"
  },
  "language_info": {
   "codemirror_mode": {
    "name": "ipython",
    "version": 3
   },
   "file_extension": ".py",
   "mimetype": "text/x-python",
   "name": "python",
   "nbconvert_exporter": "python",
   "pygments_lexer": "ipython3",
   "version": "3.8.5"
  }
 },
 "nbformat": 4,
 "nbformat_minor": 2
}
